{
 "cells": [
  {
   "cell_type": "code",
   "execution_count": 4,
   "metadata": {},
   "outputs": [
    {
     "name": "stdout",
     "output_type": "stream",
     "text": [
      "2\n",
      "1125211\n",
      "1\n",
      "12345\n",
      "0\n"
     ]
    }
   ],
   "source": [
    "class Solution:\n",
    "    def balancedNumber(self, N):\n",
    "        # your code here\n",
    "        s = str(N)\n",
    "        n = len(s)\n",
    "        m = (n//2) + 1\n",
    "        \n",
    "        \n",
    "        s1  =0\n",
    "        s2 = 0\n",
    "        \n",
    "        for i in range(n):\n",
    "            if i<m-1:\n",
    "                s1 = s1 + int(s[i])\n",
    "            if i>=m:\n",
    "                s2 = s2 + int(s[i])\n",
    "                \n",
    "        if s1==s2:\n",
    "            return 1\n",
    "        else:\n",
    "            return 0\n",
    "                \n",
    "            \n",
    "            \n",
    "\n",
    "#{ \n",
    "#  Driver Code Starts\n",
    "#Initial Template for Python 3\n",
    "\n",
    "if __name__ == \"__main__\":\n",
    "    t = int (input ())\n",
    "    for tc in range (t):\n",
    "        N = input ()\n",
    "        ob = Solution()\n",
    "        if ob.balancedNumber(N):\n",
    "            print (1)\n",
    "        else:\n",
    "            print (0) \n",
    "# } Driver Code Ends"
   ]
  },
  {
   "cell_type": "code",
   "execution_count": null,
   "metadata": {},
   "outputs": [],
   "source": [
    "Given an integer N which has odd number of digits, find whether the given number is a balanced or not.\n",
    "\n",
    "An odd digit number is called a balanced number if the sum of all digits to the left of the middle digit and the sum of all digits to the right of the middle digit is equal.\n",
    "\n",
    "Example 1:\n",
    "\n",
    "Input:\n",
    "N = 1234006\n",
    "Output: 1 \n",
    "Explanation: Total number of digits in\n",
    "N = 7. Middle digit is 4. LHS = 1+2+3 = 6\n",
    "and RHS = 0+0+6 = 6. LHS is equal to RHS."
   ]
  },
  {
   "cell_type": "code",
   "execution_count": null,
   "metadata": {},
   "outputs": [],
   "source": []
  }
 ],
 "metadata": {
  "kernelspec": {
   "display_name": "Python 3",
   "language": "python",
   "name": "python3"
  },
  "language_info": {
   "codemirror_mode": {
    "name": "ipython",
    "version": 3
   },
   "file_extension": ".py",
   "mimetype": "text/x-python",
   "name": "python",
   "nbconvert_exporter": "python",
   "pygments_lexer": "ipython3",
   "version": "3.8.5"
  }
 },
 "nbformat": 4,
 "nbformat_minor": 4
}
