{
 "cells": [
  {
   "cell_type": "raw",
   "metadata": {},
   "source": [
    "Given a fixed-length integer array arr, duplicate each occurrence of zero, shifting the remaining elements to the right.\n",
    "\n",
    "Note that elements beyond the length of the original array are not written. Do the above modifications to the input array in place and do not return anything.\n",
    "\n",
    " \n",
    "\n",
    "Example 1:\n",
    "\n",
    "Input: arr = [1,0,2,3,0,4,5,0]\n",
    "Output: [1,0,0,2,3,0,0,4]\n",
    "Explanation: After calling your function, the input array is modified to: [1,0,0,2,3,0,0,4]"
   ]
  },
  {
   "cell_type": "code",
   "execution_count": 12,
   "metadata": {},
   "outputs": [
    {
     "name": "stdout",
     "output_type": "stream",
     "text": [
      "length of array: 5\n",
      "Enter 1 element1\n",
      "Enter 2 element0\n",
      "Enter 3 element2\n",
      "Enter 4 element0\n",
      "Enter 5 element3\n",
      "[1, 0, 0, 2, 0]\n"
     ]
    }
   ],
   "source": [
    "class Solution:\n",
    "    def duplicateZeros(self, arr: [int]) -> None:\n",
    "        \"\"\"\n",
    "        Do not return anything, modify arr in-place instead.\n",
    "        \"\"\"\n",
    "        i = 0\n",
    "        l = len(arr)\n",
    "        while(i<l):\n",
    "           \n",
    "            if arr[i]==0:\n",
    "                arr.insert(i+1,0)\n",
    "                del arr[-1]\n",
    "                i = i+2\n",
    "               \n",
    "            else:\n",
    "                i += 1\n",
    "        print(arr)\n",
    "                \n",
    "n = eval(input(\"length of array: \"))\n",
    "arr = list()\n",
    "for i in range(n):\n",
    "    a = eval(input(\"Enter {} element\".format(i+1)))\n",
    "    arr.append(a)\n",
    "    \n",
    "c1 = Solution()\n",
    "\n",
    "c1.duplicateZeros(arr)"
   ]
  },
  {
   "cell_type": "code",
   "execution_count": null,
   "metadata": {},
   "outputs": [],
   "source": []
  }
 ],
 "metadata": {
  "kernelspec": {
   "display_name": "Python 3",
   "language": "python",
   "name": "python3"
  },
  "language_info": {
   "codemirror_mode": {
    "name": "ipython",
    "version": 3
   },
   "file_extension": ".py",
   "mimetype": "text/x-python",
   "name": "python",
   "nbconvert_exporter": "python",
   "pygments_lexer": "ipython3",
   "version": "3.8.5"
  }
 },
 "nbformat": 4,
 "nbformat_minor": 4
}
