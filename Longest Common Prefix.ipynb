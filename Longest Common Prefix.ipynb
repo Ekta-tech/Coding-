{
 "cells": [
  {
   "cell_type": "markdown",
   "metadata": {},
   "source": [
    "Write a function to find the longest common prefix string amongst an array of strings.\n",
    "\n",
    "If there is no common prefix, return an empty string \"\".\n",
    "\n",
    " \n",
    "\n",
    "Example 1:\n",
    "\n",
    "Input: strs = [\"flower\",\"flow\",\"flight\"]\n",
    "Output: \"fl\""
   ]
  },
  {
   "cell_type": "code",
   "execution_count": 1,
   "metadata": {},
   "outputs": [
    {
     "data": {
      "text/plain": [
       "'En'"
      ]
     },
     "execution_count": 1,
     "metadata": {},
     "output_type": "execute_result"
    }
   ],
   "source": [
    "class Solution(object):\n",
    "    def longestCommonPrefix(self, strs):\n",
    "        \"\"\"\n",
    "        :type strs: List[str]\n",
    "        :rtype: str\n",
    "        \"\"\"\n",
    "        count = 1\n",
    "        flag = 0\n",
    "        p= len(strs)\n",
    "        k = 0\n",
    "        l = min(strs,key=len)\n",
    "        while( k!=len(l)):\n",
    "            for i in range(1,len(strs)):\n",
    "                if strs[i][k]==strs[i-1][k]:\n",
    "                    count = count + 1\n",
    "                else:\n",
    "                    count = 1\n",
    "                    break\n",
    "            if count%p==0:\n",
    "                flag = 1\n",
    "                count = 1\n",
    "                k = k+1\n",
    "            else:\n",
    "                break\n",
    "        if flag == 1:\n",
    "            return strs[0][:k]\n",
    "        else:\n",
    "            return \"\"\n",
    "            \n",
    "a = Solution()\n",
    "a.longestCommonPrefix(['Ena','Enam','Enum'])"
   ]
  },
  {
   "cell_type": "code",
   "execution_count": null,
   "metadata": {},
   "outputs": [],
   "source": []
  }
 ],
 "metadata": {
  "kernelspec": {
   "display_name": "Python 3",
   "language": "python",
   "name": "python3"
  },
  "language_info": {
   "codemirror_mode": {
    "name": "ipython",
    "version": 3
   },
   "file_extension": ".py",
   "mimetype": "text/x-python",
   "name": "python",
   "nbconvert_exporter": "python",
   "pygments_lexer": "ipython3",
   "version": "3.8.5"
  }
 },
 "nbformat": 4,
 "nbformat_minor": 4
}
